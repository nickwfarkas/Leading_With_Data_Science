{
 "cells": [
  {
   "cell_type": "markdown",
   "metadata": {},
   "source": [
    "## Start Logistic Regression"
   ]
  },
  {
   "cell_type": "code",
   "execution_count": 4,
   "metadata": {},
   "outputs": [
    {
     "ename": "ModuleNotFoundError",
     "evalue": "No module named 'matplotlib'",
     "output_type": "error",
     "traceback": [
      "\u001b[0;31m---------------------------------------------------------------------------\u001b[0m",
      "\u001b[0;31mModuleNotFoundError\u001b[0m                       Traceback (most recent call last)",
      "Cell \u001b[0;32mIn [4], line 3\u001b[0m\n\u001b[1;32m      1\u001b[0m \u001b[38;5;66;03m# Starting Libraries\u001b[39;00m\n\u001b[1;32m      2\u001b[0m \u001b[38;5;28;01mimport\u001b[39;00m \u001b[38;5;21;01mnumpy\u001b[39;00m \u001b[38;5;28;01mas\u001b[39;00m \u001b[38;5;21;01mnp\u001b[39;00m\n\u001b[0;32m----> 3\u001b[0m \u001b[38;5;28;01mimport\u001b[39;00m \u001b[38;5;21;01mmatplotlib\u001b[39;00m\u001b[38;5;21;01m.\u001b[39;00m\u001b[38;5;21;01mpyplot\u001b[39;00m \u001b[38;5;28;01mas\u001b[39;00m \u001b[38;5;21;01mplt\u001b[39;00m\n\u001b[1;32m      4\u001b[0m \u001b[38;5;28;01mfrom\u001b[39;00m \u001b[38;5;21;01msklearn\u001b[39;00m\u001b[38;5;21;01m.\u001b[39;00m\u001b[38;5;21;01mlinear_model\u001b[39;00m \u001b[38;5;28;01mimport\u001b[39;00m LogisticRegression\n\u001b[1;32m      5\u001b[0m \u001b[38;5;28;01mfrom\u001b[39;00m \u001b[38;5;21;01msklearn\u001b[39;00m\u001b[38;5;21;01m.\u001b[39;00m\u001b[38;5;21;01mmetrics\u001b[39;00m \u001b[38;5;28;01mimport\u001b[39;00m classification_report, confusion_matrix\n",
      "\u001b[0;31mModuleNotFoundError\u001b[0m: No module named 'matplotlib'"
     ]
    }
   ],
   "source": [
    "# Starting Libraries\n",
    "import numpy as np\n",
    "import matplotlib.pyplot as plt\n",
    "from sklearn.linear_model import LogisticRegression\n",
    "from sklearn.metrics import classification_report, confusion_matrix\n",
    "from sklearn import preprocessing as pre"
   ]
  },
  {
   "cell_type": "code",
   "execution_count": 3,
   "metadata": {},
   "outputs": [
    {
     "data": {
      "text/html": [
       "<div>\n",
       "<style scoped>\n",
       "    .dataframe tbody tr th:only-of-type {\n",
       "        vertical-align: middle;\n",
       "    }\n",
       "\n",
       "    .dataframe tbody tr th {\n",
       "        vertical-align: top;\n",
       "    }\n",
       "\n",
       "    .dataframe thead th {\n",
       "        text-align: right;\n",
       "    }\n",
       "</style>\n",
       "<table border=\"1\" class=\"dataframe\">\n",
       "  <thead>\n",
       "    <tr style=\"text-align: right;\">\n",
       "      <th></th>\n",
       "      <th>PREPAY_VOLUNTARY</th>\n",
       "      <th>LOAN_IDENTIFIER</th>\n",
       "      <th>UNEMPL_RATE</th>\n",
       "      <th>HPI</th>\n",
       "      <th>RATE_30YR</th>\n",
       "      <th>YIELD</th>\n",
       "      <th>ORIGINAL_INTEREST_RATE</th>\n",
       "      <th>PREV_MONTH_LOAN_FACTOR</th>\n",
       "      <th>ORIGINAL_UPB</th>\n",
       "      <th>DTI</th>\n",
       "      <th>ORIGINAL_LTV</th>\n",
       "      <th>BORROWER_CREDIT_SCORE_AT_ORIGINATION</th>\n",
       "      <th>NUMBER_OF_BORROWERS</th>\n",
       "      <th>CHANNEL</th>\n",
       "      <th>PROPERTY_TYPE</th>\n",
       "      <th>OCCUPANCY_STATUS</th>\n",
       "      <th>ALTERNATIVE_DELINQUENCY_RESOLUTION</th>\n",
       "      <th>PROPERTY_VALUATION_METHOD</th>\n",
       "    </tr>\n",
       "  </thead>\n",
       "  <tbody>\n",
       "    <tr>\n",
       "      <th>0</th>\n",
       "      <td>0</td>\n",
       "      <td>548942972133</td>\n",
       "      <td>3.7</td>\n",
       "      <td>367.26</td>\n",
       "      <td>3.098</td>\n",
       "      <td>1.47</td>\n",
       "      <td>0.06125</td>\n",
       "      <td>0.839261</td>\n",
       "      <td>152000.0</td>\n",
       "      <td>0.33</td>\n",
       "      <td>0.69</td>\n",
       "      <td>675.0</td>\n",
       "      <td>1.0</td>\n",
       "      <td>Retail</td>\n",
       "      <td>Single-family home</td>\n",
       "      <td>Principal</td>\n",
       "      <td>Appraisal</td>\n",
       "      <td>NaN</td>\n",
       "    </tr>\n",
       "    <tr>\n",
       "      <th>1</th>\n",
       "      <td>0</td>\n",
       "      <td>551308347809</td>\n",
       "      <td>3.7</td>\n",
       "      <td>367.26</td>\n",
       "      <td>3.098</td>\n",
       "      <td>1.47</td>\n",
       "      <td>0.05990</td>\n",
       "      <td>0.905107</td>\n",
       "      <td>115000.0</td>\n",
       "      <td>0.42</td>\n",
       "      <td>0.70</td>\n",
       "      <td>728.0</td>\n",
       "      <td>1.0</td>\n",
       "      <td>Correspondent</td>\n",
       "      <td>Single-family home</td>\n",
       "      <td>Principal</td>\n",
       "      <td>Appraisal</td>\n",
       "      <td>NaN</td>\n",
       "    </tr>\n",
       "    <tr>\n",
       "      <th>2</th>\n",
       "      <td>1</td>\n",
       "      <td>548723741884</td>\n",
       "      <td>5.7</td>\n",
       "      <td>334.33</td>\n",
       "      <td>3.060</td>\n",
       "      <td>1.64</td>\n",
       "      <td>0.06500</td>\n",
       "      <td>0.536282</td>\n",
       "      <td>46000.0</td>\n",
       "      <td>0.14</td>\n",
       "      <td>0.80</td>\n",
       "      <td>791.0</td>\n",
       "      <td>2.0</td>\n",
       "      <td>Retail</td>\n",
       "      <td>Single-family home</td>\n",
       "      <td>Investor</td>\n",
       "      <td>Appraisal</td>\n",
       "      <td>NaN</td>\n",
       "    </tr>\n",
       "    <tr>\n",
       "      <th>3</th>\n",
       "      <td>0</td>\n",
       "      <td>207792231451</td>\n",
       "      <td>3.7</td>\n",
       "      <td>367.26</td>\n",
       "      <td>3.098</td>\n",
       "      <td>1.47</td>\n",
       "      <td>0.04750</td>\n",
       "      <td>0.849335</td>\n",
       "      <td>154000.0</td>\n",
       "      <td>0.30</td>\n",
       "      <td>0.89</td>\n",
       "      <td>771.0</td>\n",
       "      <td>2.0</td>\n",
       "      <td>Correspondent</td>\n",
       "      <td>Condominium</td>\n",
       "      <td>Principal</td>\n",
       "      <td>Appraisal</td>\n",
       "      <td>NaN</td>\n",
       "    </tr>\n",
       "    <tr>\n",
       "      <th>4</th>\n",
       "      <td>0</td>\n",
       "      <td>207835001506</td>\n",
       "      <td>3.7</td>\n",
       "      <td>367.26</td>\n",
       "      <td>3.098</td>\n",
       "      <td>1.47</td>\n",
       "      <td>0.04500</td>\n",
       "      <td>0.834630</td>\n",
       "      <td>167000.0</td>\n",
       "      <td>0.40</td>\n",
       "      <td>0.95</td>\n",
       "      <td>801.0</td>\n",
       "      <td>1.0</td>\n",
       "      <td>Correspondent</td>\n",
       "      <td>Planned Urban Development</td>\n",
       "      <td>Principal</td>\n",
       "      <td>Appraisal</td>\n",
       "      <td>NaN</td>\n",
       "    </tr>\n",
       "  </tbody>\n",
       "</table>\n",
       "</div>"
      ],
      "text/plain": [
       "   PREPAY_VOLUNTARY  LOAN_IDENTIFIER  UNEMPL_RATE     HPI  RATE_30YR  YIELD  \\\n",
       "0                 0     548942972133          3.7  367.26      3.098   1.47   \n",
       "1                 0     551308347809          3.7  367.26      3.098   1.47   \n",
       "2                 1     548723741884          5.7  334.33      3.060   1.64   \n",
       "3                 0     207792231451          3.7  367.26      3.098   1.47   \n",
       "4                 0     207835001506          3.7  367.26      3.098   1.47   \n",
       "\n",
       "   ORIGINAL_INTEREST_RATE  PREV_MONTH_LOAN_FACTOR  ORIGINAL_UPB   DTI  \\\n",
       "0                 0.06125                0.839261      152000.0  0.33   \n",
       "1                 0.05990                0.905107      115000.0  0.42   \n",
       "2                 0.06500                0.536282       46000.0  0.14   \n",
       "3                 0.04750                0.849335      154000.0  0.30   \n",
       "4                 0.04500                0.834630      167000.0  0.40   \n",
       "\n",
       "   ORIGINAL_LTV  BORROWER_CREDIT_SCORE_AT_ORIGINATION  NUMBER_OF_BORROWERS  \\\n",
       "0          0.69                                 675.0                  1.0   \n",
       "1          0.70                                 728.0                  1.0   \n",
       "2          0.80                                 791.0                  2.0   \n",
       "3          0.89                                 771.0                  2.0   \n",
       "4          0.95                                 801.0                  1.0   \n",
       "\n",
       "         CHANNEL              PROPERTY_TYPE OCCUPANCY_STATUS  \\\n",
       "0         Retail         Single-family home        Principal   \n",
       "1  Correspondent         Single-family home        Principal   \n",
       "2         Retail         Single-family home         Investor   \n",
       "3  Correspondent                Condominium        Principal   \n",
       "4  Correspondent  Planned Urban Development        Principal   \n",
       "\n",
       "  ALTERNATIVE_DELINQUENCY_RESOLUTION PROPERTY_VALUATION_METHOD  \n",
       "0                          Appraisal                       NaN  \n",
       "1                          Appraisal                       NaN  \n",
       "2                          Appraisal                       NaN  \n",
       "3                          Appraisal                       NaN  \n",
       "4                          Appraisal                       NaN  "
      ]
     },
     "execution_count": 3,
     "metadata": {},
     "output_type": "execute_result"
    }
   ],
   "source": [
    "# Importing data into dataframe\n",
    "import pandas as pd\n",
    "\n",
    "prepay_df = pd.read_csv('SF_2021_MI_Prepay.csv')\n",
    "prepay_df.head()\n",
    "\n",
    "# PREPAY_VOLUNTARY - Response Variable - 0: Did not Prepay 1: Did Prepay\n",
    "# LOAN_IDENTIFIER\n",
    "# UNEMPL_RATE - National Unemployment Rate Percentage\n",
    "# HPI - Important indicator for estimating prepayments, defaults, and housing affordability.\n",
    "# RATE_30YR - 30 Year Intrest Rate\n",
    "# YIELD - The 10-year is used as a proxy for mortgage rates.\n",
    "# ORIGINAL_INTEREST_RATE - The original interest rate on a mortgage loan as identified in the original mortgage note.\n",
    "# PREV_MONTH_LOAN_FACTOR - With Prev_Loan_Factor we can see the unpaid principal balance just before prepayment.\n",
    "# ORIGINAL_UPB - unpaid principal balance\n",
    "# "
   ]
  },
  {
   "cell_type": "code",
   "execution_count": null,
   "metadata": {},
   "outputs": [],
   "source": [
    "# Checking Normality (Not needed)\n",
    "import scipy.stats as stats\n",
    "import pylab\n",
    "\n",
    "for i in range(prepay_df.shape[1]):  \n",
    "    stats.probplot(prepay_df.iloc[:,i], dist=\"norm\", plot=pylab)\n",
    "    pylab.show()"
   ]
  },
  {
   "cell_type": "code",
   "execution_count": 4,
   "metadata": {},
   "outputs": [],
   "source": [
    "# Droping column with too many NaN\n",
    "prepay_df[prepay_df.isna().any(axis=1)]\n",
    "prepay_df = prepay_df.drop(columns=\"PROPERTY_VALUATION_METHOD\")"
   ]
  },
  {
   "cell_type": "code",
   "execution_count": 5,
   "metadata": {},
   "outputs": [],
   "source": [
    "# Droping rows that have NaNs\n",
    "len(prepay_df[prepay_df.isna().any(axis=1)])\n",
    "prepay_df = prepay_df.dropna()\n",
    "prepay_df = prepay_df.drop(columns=\"LOAN_IDENTIFIER\")"
   ]
  },
  {
   "cell_type": "code",
   "execution_count": 6,
   "metadata": {},
   "outputs": [
    {
     "name": "stdout",
     "output_type": "stream",
     "text": [
      "<class 'pandas.core.frame.DataFrame'>\n",
      "Int64Index: 574874 entries, 0 to 576162\n",
      "Data columns (total 16 columns):\n",
      " #   Column                                Non-Null Count   Dtype  \n",
      "---  ------                                --------------   -----  \n",
      " 0   PREPAY_VOLUNTARY                      574874 non-null  int64  \n",
      " 1   UNEMPL_RATE                           574874 non-null  float64\n",
      " 2   HPI                                   574874 non-null  float64\n",
      " 3   RATE_30YR                             574874 non-null  float64\n",
      " 4   YIELD                                 574874 non-null  float64\n",
      " 5   ORIGINAL_INTEREST_RATE                574874 non-null  float64\n",
      " 6   PREV_MONTH_LOAN_FACTOR                574874 non-null  float64\n",
      " 7   ORIGINAL_UPB                          574874 non-null  float64\n",
      " 8   DTI                                   574874 non-null  float64\n",
      " 9   ORIGINAL_LTV                          574874 non-null  float64\n",
      " 10  BORROWER_CREDIT_SCORE_AT_ORIGINATION  574874 non-null  float64\n",
      " 11  NUMBER_OF_BORROWERS                   574874 non-null  float64\n",
      " 12  CHANNEL                               574874 non-null  int64  \n",
      " 13  PROPERTY_TYPE                         574874 non-null  int64  \n",
      " 14  OCCUPANCY_STATUS                      574874 non-null  int64  \n",
      " 15  ALTERNATIVE_DELINQUENCY_RESOLUTION    574874 non-null  int64  \n",
      "dtypes: float64(11), int64(5)\n",
      "memory usage: 74.6 MB\n",
      "None\n"
     ]
    },
    {
     "data": {
      "text/html": [
       "<div>\n",
       "<style scoped>\n",
       "    .dataframe tbody tr th:only-of-type {\n",
       "        vertical-align: middle;\n",
       "    }\n",
       "\n",
       "    .dataframe tbody tr th {\n",
       "        vertical-align: top;\n",
       "    }\n",
       "\n",
       "    .dataframe thead th {\n",
       "        text-align: right;\n",
       "    }\n",
       "</style>\n",
       "<table border=\"1\" class=\"dataframe\">\n",
       "  <thead>\n",
       "    <tr style=\"text-align: right;\">\n",
       "      <th></th>\n",
       "      <th>PREPAY_VOLUNTARY</th>\n",
       "      <th>UNEMPL_RATE</th>\n",
       "      <th>HPI</th>\n",
       "      <th>RATE_30YR</th>\n",
       "      <th>YIELD</th>\n",
       "      <th>ORIGINAL_INTEREST_RATE</th>\n",
       "      <th>PREV_MONTH_LOAN_FACTOR</th>\n",
       "      <th>ORIGINAL_UPB</th>\n",
       "      <th>DTI</th>\n",
       "      <th>ORIGINAL_LTV</th>\n",
       "      <th>BORROWER_CREDIT_SCORE_AT_ORIGINATION</th>\n",
       "      <th>NUMBER_OF_BORROWERS</th>\n",
       "      <th>CHANNEL</th>\n",
       "      <th>PROPERTY_TYPE</th>\n",
       "      <th>OCCUPANCY_STATUS</th>\n",
       "      <th>ALTERNATIVE_DELINQUENCY_RESOLUTION</th>\n",
       "    </tr>\n",
       "  </thead>\n",
       "  <tbody>\n",
       "    <tr>\n",
       "      <th>0</th>\n",
       "      <td>0</td>\n",
       "      <td>3.7</td>\n",
       "      <td>367.26</td>\n",
       "      <td>3.098</td>\n",
       "      <td>1.47</td>\n",
       "      <td>0.06125</td>\n",
       "      <td>0.839261</td>\n",
       "      <td>152000.0</td>\n",
       "      <td>0.33</td>\n",
       "      <td>0.69</td>\n",
       "      <td>675.0</td>\n",
       "      <td>1.0</td>\n",
       "      <td>0</td>\n",
       "      <td>0</td>\n",
       "      <td>0</td>\n",
       "      <td>0</td>\n",
       "    </tr>\n",
       "    <tr>\n",
       "      <th>1</th>\n",
       "      <td>0</td>\n",
       "      <td>3.7</td>\n",
       "      <td>367.26</td>\n",
       "      <td>3.098</td>\n",
       "      <td>1.47</td>\n",
       "      <td>0.05990</td>\n",
       "      <td>0.905107</td>\n",
       "      <td>115000.0</td>\n",
       "      <td>0.42</td>\n",
       "      <td>0.70</td>\n",
       "      <td>728.0</td>\n",
       "      <td>1.0</td>\n",
       "      <td>1</td>\n",
       "      <td>0</td>\n",
       "      <td>0</td>\n",
       "      <td>0</td>\n",
       "    </tr>\n",
       "    <tr>\n",
       "      <th>2</th>\n",
       "      <td>1</td>\n",
       "      <td>5.7</td>\n",
       "      <td>334.33</td>\n",
       "      <td>3.060</td>\n",
       "      <td>1.64</td>\n",
       "      <td>0.06500</td>\n",
       "      <td>0.536282</td>\n",
       "      <td>46000.0</td>\n",
       "      <td>0.14</td>\n",
       "      <td>0.80</td>\n",
       "      <td>791.0</td>\n",
       "      <td>2.0</td>\n",
       "      <td>0</td>\n",
       "      <td>0</td>\n",
       "      <td>1</td>\n",
       "      <td>0</td>\n",
       "    </tr>\n",
       "    <tr>\n",
       "      <th>3</th>\n",
       "      <td>0</td>\n",
       "      <td>3.7</td>\n",
       "      <td>367.26</td>\n",
       "      <td>3.098</td>\n",
       "      <td>1.47</td>\n",
       "      <td>0.04750</td>\n",
       "      <td>0.849335</td>\n",
       "      <td>154000.0</td>\n",
       "      <td>0.30</td>\n",
       "      <td>0.89</td>\n",
       "      <td>771.0</td>\n",
       "      <td>2.0</td>\n",
       "      <td>1</td>\n",
       "      <td>1</td>\n",
       "      <td>0</td>\n",
       "      <td>0</td>\n",
       "    </tr>\n",
       "    <tr>\n",
       "      <th>4</th>\n",
       "      <td>0</td>\n",
       "      <td>3.7</td>\n",
       "      <td>367.26</td>\n",
       "      <td>3.098</td>\n",
       "      <td>1.47</td>\n",
       "      <td>0.04500</td>\n",
       "      <td>0.834630</td>\n",
       "      <td>167000.0</td>\n",
       "      <td>0.40</td>\n",
       "      <td>0.95</td>\n",
       "      <td>801.0</td>\n",
       "      <td>1.0</td>\n",
       "      <td>1</td>\n",
       "      <td>2</td>\n",
       "      <td>0</td>\n",
       "      <td>0</td>\n",
       "    </tr>\n",
       "  </tbody>\n",
       "</table>\n",
       "</div>"
      ],
      "text/plain": [
       "   PREPAY_VOLUNTARY  UNEMPL_RATE     HPI  RATE_30YR  YIELD  \\\n",
       "0                 0          3.7  367.26      3.098   1.47   \n",
       "1                 0          3.7  367.26      3.098   1.47   \n",
       "2                 1          5.7  334.33      3.060   1.64   \n",
       "3                 0          3.7  367.26      3.098   1.47   \n",
       "4                 0          3.7  367.26      3.098   1.47   \n",
       "\n",
       "   ORIGINAL_INTEREST_RATE  PREV_MONTH_LOAN_FACTOR  ORIGINAL_UPB   DTI  \\\n",
       "0                 0.06125                0.839261      152000.0  0.33   \n",
       "1                 0.05990                0.905107      115000.0  0.42   \n",
       "2                 0.06500                0.536282       46000.0  0.14   \n",
       "3                 0.04750                0.849335      154000.0  0.30   \n",
       "4                 0.04500                0.834630      167000.0  0.40   \n",
       "\n",
       "   ORIGINAL_LTV  BORROWER_CREDIT_SCORE_AT_ORIGINATION  NUMBER_OF_BORROWERS  \\\n",
       "0          0.69                                 675.0                  1.0   \n",
       "1          0.70                                 728.0                  1.0   \n",
       "2          0.80                                 791.0                  2.0   \n",
       "3          0.89                                 771.0                  2.0   \n",
       "4          0.95                                 801.0                  1.0   \n",
       "\n",
       "   CHANNEL  PROPERTY_TYPE  OCCUPANCY_STATUS  \\\n",
       "0        0              0                 0   \n",
       "1        1              0                 0   \n",
       "2        0              0                 1   \n",
       "3        1              1                 0   \n",
       "4        1              2                 0   \n",
       "\n",
       "   ALTERNATIVE_DELINQUENCY_RESOLUTION  \n",
       "0                                   0  \n",
       "1                                   0  \n",
       "2                                   0  \n",
       "3                                   0  \n",
       "4                                   0  "
      ]
     },
     "execution_count": 6,
     "metadata": {},
     "output_type": "execute_result"
    }
   ],
   "source": [
    "# prepay_df = prepay_df.astype({\"PREPAY_VOLUNTARY\":'int', \"ALTERNATIVE_DELINQUENCY_RESOLUTION\": 'int', \"OCCUPANCY_STATUS\": 'int', \"PROPERTY_TYPE\": 'int', \"CHANNEL\": 'int'})\n",
    "\n",
    "categories = prepay_df[\"ALTERNATIVE_DELINQUENCY_RESOLUTION\"].unique()\n",
    "prepay_df.replace(categories,range(0,len(categories)), inplace=True)\n",
    "\n",
    "categories = prepay_df[\"OCCUPANCY_STATUS\"].unique()\n",
    "prepay_df.replace(categories,range(0,len(categories)), inplace=True)\n",
    "\n",
    "categories = prepay_df[\"PROPERTY_TYPE\"].unique()\n",
    "prepay_df.replace(categories,range(0,len(categories)), inplace=True)\n",
    "\n",
    "categories = prepay_df[\"CHANNEL\"].unique()\n",
    "prepay_df.replace(categories,range(0,len(categories)), inplace=True)\n",
    "\n",
    "print(prepay_df.info())\n",
    "\n",
    "prepay_df.head()"
   ]
  },
  {
   "cell_type": "code",
   "execution_count": 7,
   "metadata": {},
   "outputs": [
    {
     "name": "stdout",
     "output_type": "stream",
     "text": [
      "Training\n"
     ]
    },
    {
     "data": {
      "image/png": "[encoded data removed]",
      "text/plain": [
       "<Figure size 432x288 with 1 Axes>"
      ]
     },
     "metadata": {
      "needs_background": "light"
     },
     "output_type": "display_data"
    },
    {
     "name": "stdout",
     "output_type": "stream",
     "text": [
      "Testing\n"
     ]
    },
    {
     "data": {
      "image/png": "[encoded data removed]",
      "text/plain": [
       "<Figure size 432x288 with 1 Axes>"
      ]
     },
     "metadata": {
      "needs_background": "light"
     },
     "output_type": "display_data"
    },
    {
     "name": "stdout",
     "output_type": "stream",
     "text": [
      "Train: 459899\n",
      "Test: 114975\n"
     ]
    }
   ],
   "source": [
    "import numpy as np\n",
    "from sklearn.model_selection import train_test_split\n",
    "import seaborn as sns\n",
    "\n",
    "prepay_train, prepay_test = train_test_split(prepay_df, test_size=0.2)\n",
    "\n",
    "print('Training')\n",
    "sns.countplot(x='PREPAY_VOLUNTARY',data=prepay_train)  \n",
    "plt.show()\n",
    "\n",
    "print('Testing')\n",
    "sns.countplot(x='PREPAY_VOLUNTARY',data=prepay_test)  \n",
    "plt.show()  \n",
    "\n",
    "print('Train: '+str(len(prepay_train)))\n",
    "print('Test: '+str(len(prepay_test)))"
   ]
  },
  {
   "cell_type": "code",
   "execution_count": 8,
   "metadata": {},
   "outputs": [],
   "source": [
    "# Train Logistic Regression Model\n",
    "lr_model = LogisticRegression()\n",
    "prepay_train_y = prepay_train[\"PREPAY_VOLUNTARY\"]\n",
    "prepay_train_x = prepay_train.drop(columns=\"PREPAY_VOLUNTARY\")\n",
    "lr_model = lr_model.fit(prepay_train_x,prepay_train_y)\n",
    "\n",
    "# Test Logistic Regression Model\n",
    "prepay_test_y = prepay_test[\"PREPAY_VOLUNTARY\"]\n",
    "prepay_test_x = prepay_test.drop(columns=\"PREPAY_VOLUNTARY\")\n",
    "lr_model_pred = lr_model.predict(prepay_test_x)"
   ]
  },
  {
   "cell_type": "code",
   "execution_count": 9,
   "metadata": {},
   "outputs": [
    {
     "data": {
      "image/png": "[encoded data removed]",
      "text/plain": [
       "<Figure size 432x288 with 2 Axes>"
      ]
     },
     "metadata": {
      "needs_background": "light"
     },
     "output_type": "display_data"
    }
   ],
   "source": [
    "from sklearn import metrics\n",
    "# Confusion Matrix for Test\n",
    "lr_model_cnf_matrix = metrics.confusion_matrix(prepay_test_y, lr_model_pred)\n",
    "cm_display = metrics.ConfusionMatrixDisplay(confusion_matrix = lr_model_cnf_matrix, display_labels = [\"Won't Prepay\", \"Will Prepay\"])\n",
    "\n",
    "cm_display.plot()\n",
    "plt.show()"
   ]
  },
  {
   "cell_type": "code",
   "execution_count": null,
   "metadata": {},
   "outputs": [],
   "source": [
    "# ROC for Test Data\n",
    "y_pred_proba = lr_model.predict_proba(prepay_test_x)[::,1]\n",
    "fpr, tpr, _ = metrics.roc_curve(prepay_test_y,  y_pred_proba)\n",
    "auc = metrics.roc_auc_score(prepay_test_y, y_pred_proba)\n",
    "plt.plot(fpr,tpr,label=\"data 1, auc=\"+str(auc))\n",
    "plt.legend(loc=4)\n",
    "plt.show()"
   ]
  },
  {
   "cell_type": "code",
   "execution_count": null,
   "metadata": {},
   "outputs": [],
   "source": [
    "from sklearn.feature_selection import RFE\n",
    "# Refined logistic Model\n",
    "lr_model_refined = LogisticRegression(max_iter=100000)"
   ]
  },
  {
   "cell_type": "code",
   "execution_count": null,
   "metadata": {},
   "outputs": [],
   "source": [
    "# Refining Predictors\n",
    "refined_predictors = RFE(lr_model_refined)\n",
    "refined_predictors = refined_predictors.fit(prepay_train_x,prepay_train_y)"
   ]
  },
  {
   "cell_type": "code",
   "execution_count": null,
   "metadata": {},
   "outputs": [],
   "source": [
    "# Refined Train and Test Datasets\n",
    "prepay_train_x_refined = prepay_train_x[prepay_train_x.columns[refined_predictors.get_support()]]\n",
    "prepay_train_y_refined = prepay_train_y\n",
    "prepay_test_x_refined = prepay_test_x[prepay_test_x.columns[refined_predictors.get_support()]]\n",
    "prepay_test_y_refined = prepay_test_y"
   ]
  },
  {
   "cell_type": "code",
   "execution_count": null,
   "metadata": {},
   "outputs": [],
   "source": [
    "# Training refined model\n",
    "lr_model = LogisticRegression(max_iter=100000)\n",
    "lr_model = lr_model.fit(prepay_train_x_refined,prepay_train_y_refined)\n",
    "model_pred = lr_model.predict(prepay_test_x_refined)"
   ]
  },
  {
   "cell_type": "code",
   "execution_count": null,
   "metadata": {},
   "outputs": [],
   "source": [
    "# Confusion Matrix for Test\n",
    "lr_model_cnf_matrix = metrics.confusion_matrix(prepay_test_y_refined, model_pred)\n",
    "cm_display = metrics.ConfusionMatrixDisplay(confusion_matrix = lr_model_cnf_matrix, display_labels = [\"Won't Prepay\", \"Will Prepay\"])\n",
    "\n",
    "cm_display.plot()\n",
    "plt.show()"
   ]
  },
  {
   "cell_type": "code",
   "execution_count": null,
   "metadata": {},
   "outputs": [],
   "source": [
    "lr_model.score(prepay_test_x_refined, prepay_test_y_refined)"
   ]
  },
  {
   "cell_type": "code",
   "execution_count": null,
   "metadata": {},
   "outputs": [],
   "source": [
    "import statsmodels.api as sm\n",
    "model = sm.Logit(prepay_train_y_refined,prepay_train_x_refined).fit()\n",
    "print(model.summary())"
   ]
  },
  {
   "cell_type": "code",
   "execution_count": null,
   "metadata": {},
   "outputs": [],
   "source": [
    "# ROC for Test Data\n",
    "y_pred_proba = lr_model.predict_proba(prepay_test_x_refined)[::,1]\n",
    "fpr, tpr, _ = metrics.roc_curve(prepay_test_y_refined,y_pred_proba)\n",
    "auc = metrics.roc_auc_score(prepay_test_y_refined, y_pred_proba)\n",
    "plt.plot(fpr,tpr,label=\"data 1, auc=\"+str(auc))\n",
    "plt.legend(loc=4)\n",
    "plt.show()"
   ]
  },
  {
   "cell_type": "markdown",
   "metadata": {},
   "source": [
    "## Start Neural Network (Not Finished)"
   ]
  },
  {
   "cell_type": "code",
   "execution_count": null,
   "metadata": {},
   "outputs": [],
   "source": [
    "from sklearn.preprocessing import StandardScaler"
   ]
  },
  {
   "cell_type": "code",
   "execution_count": null,
   "metadata": {},
   "outputs": [],
   "source": [
    "# Setting refined data as main data for readability\n",
    "x_train = prepay_train_x_refined\n",
    "y_train = prepay_train_y_refined\n",
    "x_test = prepay_test_x_refined\n",
    "y_test = prepay_test_y_refined"
   ]
  },
  {
   "cell_type": "code",
   "execution_count": null,
   "metadata": {},
   "outputs": [],
   "source": [
    "scaler = StandardScaler()\n",
    "scaler.fit(prepay_train_rfe)\n",
    "\n",
    "x_train = scaler.transform(prepay_train_rfe)\n",
    "x_test = scaler.transform(prepay_test_rfe)"
   ]
  },
  {
   "cell_type": "code",
   "execution_count": null,
   "metadata": {},
   "outputs": [],
   "source": [
    "from sklearn.neural_network import MLPClassifier\n",
    "mlp = MLPClassifier(hidden_layer_sizes=(10, 8, 3), max_iter=10000, learning_rate='constant', learning_rate_init=.0000001)\n",
    "mlp.fit(x_train, prepay_train[\"PREPAY_VOLUNTARY\"])"
   ]
  },
  {
   "cell_type": "code",
   "execution_count": null,
   "metadata": {},
   "outputs": [],
   "source": [
    "predictions = mlp.predict(prepay_test_rfe)"
   ]
  },
  {
   "cell_type": "code",
   "execution_count": null,
   "metadata": {},
   "outputs": [],
   "source": [
    "cnf_matrix = metrics.confusion_matrix(y_test, predictions)\n",
    "print(cnf_matrix)"
   ]
  },
  {
   "cell_type": "code",
   "execution_count": null,
   "metadata": {},
   "outputs": [],
   "source": [
    "y_pred_proba = mlp.predict_proba(prepay_test_rfe)[::,1]\n",
    "fpr, tpr, _ = metrics.roc_curve(y_test,  y_pred_proba)\n",
    "auc = metrics.roc_auc_score(y_test, y_pred_proba)\n",
    "plt.plot(fpr,tpr,label=\"data 1, auc=\"+str(auc))\n",
    "plt.legend(loc=4)\n",
    "plt.show()"
   ]
  }
 ],
 "metadata": {
  "kernelspec": {
   "display_name": "Python 3.9.6 64-bit",
   "language": "python",
   "name": "python3"
  },
  "language_info": {
   "codemirror_mode": {
    "name": "ipython",
    "version": 3
   },
   "file_extension": ".py",
   "mimetype": "text/x-python",
   "name": "python",
   "nbconvert_exporter": "python",
   "pygments_lexer": "ipython3",
   "version": "3.9.6"
  },
  "orig_nbformat": 4,
  "vscode": {
   "interpreter": {
    "hash": "aee8b7b246df8f9039afb4144a1f6fd8d2ca17a180786b69acc140d282b71a49"
   }
  }
 },
 "nbformat": 4,
 "nbformat_minor": 2
}
